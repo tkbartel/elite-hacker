{
 "cells": [
  {
   "cell_type": "code",
   "execution_count": null,
   "metadata": {},
   "outputs": [],
   "source": [
    "import xml.etree.ElementTree as ET\n",
    "import string"
   ]
  },
  {
   "cell_type": "code",
   "execution_count": null,
   "metadata": {},
   "outputs": [],
   "source": [
    "# load and parse subtitle document as XML tree\n",
    "file = 'data/elite.xml'\n",
    "tree = ET.parse(file)\n",
    "root = tree.getroot()"
   ]
  },
  {
   "cell_type": "code",
   "execution_count": null,
   "metadata": {},
   "outputs": [],
   "source": [
    "def traverse(node, text_list):\n",
    "    text = node.text\n",
    "    if text and text != '\\n':\n",
    "        text_list.append(text)\n",
    "    for child in node:\n",
    "        traverse(child, text_list)"
   ]
  },
  {
   "cell_type": "code",
   "execution_count": null,
   "metadata": {},
   "outputs": [],
   "source": [
    "# TODO:\n",
    "# remove anything in []\n",
    "# remove anything [en ingles]"
   ]
  },
  {
   "cell_type": "code",
   "execution_count": null,
   "metadata": {},
   "outputs": [],
   "source": [
    "# write every line of dialogue in the XML tree into a list\n",
    "dialogue_lines = []\n",
    "traverse(root, dialogue_lines)\n",
    "print(dialogue_lines)"
   ]
  },
  {
   "cell_type": "code",
   "execution_count": null,
   "metadata": {},
   "outputs": [],
   "source": [
    "def remove_punctuation(s):\n",
    "    punctuation = string.punctuation + '¿¡♪'\n",
    "    return s.translate(str.maketrans('', '', punctuation))"
   ]
  },
  {
   "cell_type": "code",
   "execution_count": null,
   "metadata": {},
   "outputs": [],
   "source": [
    "# concatenate lines of dialogue into one string\n",
    "dialogue_str = ' '.join(dialogue_lines)\n",
    "# remove all punctuation and make lowercase\n",
    "processed_str = remove_punctuation(dialogue_str).lower()"
   ]
  },
  {
   "cell_type": "code",
   "execution_count": null,
   "metadata": {},
   "outputs": [],
   "source": [
    "processed_str"
   ]
  },
  {
   "cell_type": "code",
   "execution_count": null,
   "metadata": {},
   "outputs": [],
   "source": [
    "unique_words = set(processed_str.split())"
   ]
  },
  {
   "cell_type": "code",
   "execution_count": null,
   "metadata": {},
   "outputs": [],
   "source": [
    "alphabetized = list(unique_words)\n",
    "alphabetized.sort()"
   ]
  },
  {
   "cell_type": "code",
   "execution_count": null,
   "metadata": {},
   "outputs": [],
   "source": [
    "num_words = len(alphabetized)\n",
    "print('Number of unique words: %d' % num_words)"
   ]
  },
  {
   "cell_type": "code",
   "execution_count": null,
   "metadata": {},
   "outputs": [],
   "source": [
    "alphabetized"
   ]
  },
  {
   "cell_type": "code",
   "execution_count": null,
   "metadata": {},
   "outputs": [],
   "source": [
    "# TODO:\n",
    "# group different conjugations of same verb\n",
    "# separate common words (hay, que, esta) from rarer words?\n",
    "# automatically make flash cards (Anki?)"
   ]
  }
 ],
 "metadata": {
  "kernelspec": {
   "display_name": "Python (cs231n)",
   "language": "python",
   "name": "cs231n"
  },
  "language_info": {
   "codemirror_mode": {
    "name": "ipython",
    "version": 3
   },
   "file_extension": ".py",
   "mimetype": "text/x-python",
   "name": "python",
   "nbconvert_exporter": "python",
   "pygments_lexer": "ipython3",
   "version": "3.7.6"
  }
 },
 "nbformat": 4,
 "nbformat_minor": 2
}
